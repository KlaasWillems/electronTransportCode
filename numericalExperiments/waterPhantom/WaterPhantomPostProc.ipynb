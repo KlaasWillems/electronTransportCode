{
 "cells": [
  {
   "cell_type": "code",
   "execution_count": 1,
   "metadata": {},
   "outputs": [
    {
     "name": "stdout",
     "output_type": "stream",
     "text": [
      "['/home/klaas/Documents/KUL/thesis/electronTransportCode/numericalExperiments/waterPhantom', '/usr/lib/python310.zip', '/usr/lib/python3.10', '/usr/lib/python3.10/lib-dynload', '', '/home/klaas/.local/lib/python3.10/site-packages', '/usr/local/lib/python3.10/dist-packages', '/home/klaas/Documents/codes/yt', '/usr/lib/python3/dist-packages', '/home/klaas/Documents/KUL/thesis/electronTransportCode']\n"
     ]
    }
   ],
   "source": [
    "import os\n",
    "import sys\n",
    "\n",
    "PROJECT_ROOT = os.path.abspath(os.path.join(\n",
    "                  os.path.abspath('..'),\n",
    "                  os.pardir)\n",
    ")\n",
    "sys.path.append(PROJECT_ROOT)\n",
    "print(sys.path)\n",
    "\n",
    "# Imports\n",
    "import numpy as np\n",
    "import matplotlib.pyplot as plt\n",
    "from electronTransportCode.SimOptions import WaterPhantomSimulation\n",
    "from electronTransportCode.SimulationDomain import SimulationDomain\n",
    "from electronTransportCode.MCParticleTracer import AnalogParticleTracer, MCParticleTracer\n",
    "from electronTransportCode.MCEstimator import DoseEstimator\n",
    "from electronTransportCode.ProjectUtils import ERE\n",
    "from electronTransportCode.ParticleModel import SimplifiedEGSnrcElectron\n",
    "from electronTransportCode.ProjectUtils import E_THRESHOLD, Z_WATER_EFF\n",
    "from electronTransportCode.Material import WaterMaterial, Material"
   ]
  },
  {
   "cell_type": "code",
   "execution_count": 2,
   "metadata": {},
   "outputs": [],
   "source": [
    "import pickle\n",
    "\n",
    "with open('data/particleTracer.pkl', 'rb') as file:\n",
    "    particleTracer = pickle.load(file)\n",
    "    \n",
    "with open('data/doseEstimator.pkl', 'rb') as file:\n",
    "    doseEstimator = pickle.load(file)\n",
    "    \n",
    "simDomain = particleTracer.simDomain\n",
    "particle = particleTracer.particle"
   ]
  },
  {
   "cell_type": "code",
   "execution_count": null,
   "metadata": {},
   "outputs": [],
   "source": [
    "# Plot energy deposition\n",
    "energyDeposition_ERE = np.reshape(doseEstimator.scoreMatrix, (simDomain.ybins, simDomain.xbins) )\n",
    "\n",
    "fig = plt.figure(1)\n",
    "ax = fig.add_subplot(111)\n",
    "ax.matshow(energyDeposition_ERE, extent=[-2.5, 7.5, -2.5, 7.5], origin='lower')\n",
    "ax.set_xticks(np.linspace(-2.5, 7.5, 5))\n",
    "ax.set_yticks(np.linspace(-2.5, 7.5, 5))\n",
    "ax.xaxis.tick_bottom()\n",
    "ax.set_xlabel('x [cm]')\n",
    "ax.set_ylabel('y [cm]')\n",
    "plt.show()"
   ]
  }
 ],
 "metadata": {
  "kernelspec": {
   "display_name": "Python 3",
   "language": "python",
   "name": "python3"
  },
  "language_info": {
   "codemirror_mode": {
    "name": "ipython",
    "version": 3
   },
   "file_extension": ".py",
   "mimetype": "text/x-python",
   "name": "python",
   "nbconvert_exporter": "python",
   "pygments_lexer": "ipython3",
   "version": "3.10.6"
  },
  "orig_nbformat": 4,
  "vscode": {
   "interpreter": {
    "hash": "916dbcbb3f70747c44a77c7bcd40155683ae19c65e1c03b4aa3499c5328201f1"
   }
  }
 },
 "nbformat": 4,
 "nbformat_minor": 2
}
