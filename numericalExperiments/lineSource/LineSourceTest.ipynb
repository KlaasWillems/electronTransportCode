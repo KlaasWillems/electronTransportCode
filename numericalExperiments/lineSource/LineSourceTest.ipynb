{
 "cells": [
  {
   "cell_type": "code",
   "execution_count": 1,
   "metadata": {},
   "outputs": [],
   "source": [
    "# Add root directory to path\n",
    "import os\n",
    "import sys\n",
    "import numpy as np\n",
    "import matplotlib.pyplot as plt\n",
    "PROJECT_ROOT = os.path.abspath(os.path.join(\n",
    "                  os.path.abspath('..'),\n",
    "                  os.pardir)\n",
    ")\n",
    "sys.path.append(PROJECT_ROOT)\n",
    "\n",
    "# Imports\n",
    "from electronTransportCode.SimOptions import LineSourceSimulation\n",
    "from electronTransportCode.SimulationDomain import SimulationDomain\n",
    "from electronTransportCode.MCParticleTracer import AnalogParticleTracer, MCParticleTracer\n",
    "from electronTransportCode.MCEstimator import DoseEstimator, FluenceEstimator\n",
    "from electronTransportCode.ProjectUtils import ERE\n",
    "from electronTransportCode.ParticleModel import SimplifiedEGSnrcElectron\n",
    "from electronTransportCode.ProjectUtils import E_THRESHOLD\n",
    "from electronTransportCode.Material import Material\n",
    "%matplotlib widget"
   ]
  },
  {
   "attachments": {},
   "cell_type": "markdown",
   "metadata": {},
   "source": [
    "### Set up all objects"
   ]
  },
  {
   "cell_type": "code",
   "execution_count": 2,
   "metadata": {},
   "outputs": [],
   "source": [
    "# Set up initial conditions\n",
    "eSource: float = 1.0\n",
    "SEED: int = 4  # Random number generator seed\n",
    "lineSourceSim = LineSourceSimulation(minEnergy=0, eSource=eSource, rngSeed=SEED)\n",
    "\n",
    "# Set up simulation domain\n",
    "xmin = -1.5; xmax = 1.5\n",
    "simDomain = SimulationDomain(xmin, xmax, xmin, xmax, 200, 200)\n",
    "\n",
    "# Set up dose estimator\n",
    "fluenceEstimator = FluenceEstimator(simDomain=simDomain, Emin=0.0, Emax=eSource, Ebins=20)\n",
    "\n",
    "# Set up particle\n",
    "particle = SimplifiedEGSnrcElectron(generator=SEED)  # rng is later overridden by simulation object \n",
    "\n",
    "# Set up particle tracer\n",
    "particleTracer = AnalogParticleTracer(particle=particle, simOptions=lineSourceSim, simDomain=simDomain)"
   ]
  },
  {
   "attachments": {},
   "cell_type": "markdown",
   "metadata": {},
   "source": [
    "### Run simulation"
   ]
  },
  {
   "cell_type": "code",
   "execution_count": 3,
   "metadata": {},
   "outputs": [
    {
     "ename": "IndexError",
     "evalue": "index 20 is out of bounds for axis 0 with size 20",
     "output_type": "error",
     "traceback": [
      "\u001b[0;31m---------------------------------------------------------------------------\u001b[0m",
      "\u001b[0;31mIndexError\u001b[0m                                Traceback (most recent call last)",
      "Cell \u001b[0;32mIn[3], line 2\u001b[0m\n\u001b[1;32m      1\u001b[0m NB_PARTICLES \u001b[39m=\u001b[39m \u001b[39m100\u001b[39m\n\u001b[0;32m----> 2\u001b[0m particleTracer(nbParticles\u001b[39m=\u001b[39;49mNB_PARTICLES, estimator\u001b[39m=\u001b[39;49mfluenceEstimator)\n\u001b[1;32m      3\u001b[0m \u001b[39mprint\u001b[39m(\u001b[39mf\u001b[39m\u001b[39m'\u001b[39m\u001b[39mAverage amount of events: \u001b[39m\u001b[39m{\u001b[39;00mparticleTracer\u001b[39m.\u001b[39maverageNbCollisions\u001b[39m}\u001b[39;00m\u001b[39m'\u001b[39m)\n",
      "File \u001b[0;32m~/Documents/electronTransportCode/electronTransportCode/MCParticleTracer.py:31\u001b[0m, in \u001b[0;36mMCParticleTracer.__call__\u001b[0;34m(self, nbParticles, estimator)\u001b[0m\n\u001b[1;32m     29\u001b[0m t1 \u001b[39m=\u001b[39m time\u001b[39m.\u001b[39mperf_counter()\n\u001b[1;32m     30\u001b[0m \u001b[39mfor\u001b[39;00m particle \u001b[39min\u001b[39;00m \u001b[39mrange\u001b[39m(\u001b[39m1\u001b[39m, nbParticles\u001b[39m+\u001b[39m\u001b[39m1\u001b[39m):\n\u001b[0;32m---> 31\u001b[0m     nb_events \u001b[39m=\u001b[39m \u001b[39mself\u001b[39;49m\u001b[39m.\u001b[39;49mtraceParticle(estimator)\n\u001b[1;32m     32\u001b[0m     \u001b[39mself\u001b[39m\u001b[39m.\u001b[39maverageNbCollisions \u001b[39m+\u001b[39m\u001b[39m=\u001b[39m (nb_events \u001b[39m-\u001b[39m \u001b[39mself\u001b[39m\u001b[39m.\u001b[39maverageNbCollisions)\u001b[39m/\u001b[39mparticle\n\u001b[1;32m     34\u001b[0m     \u001b[39mif\u001b[39;00m particle \u001b[39m%\u001b[39m \u001b[39m1000\u001b[39m \u001b[39m==\u001b[39m \u001b[39m0\u001b[39m:  \u001b[39m# every 1000 particles\u001b[39;00m\n",
      "File \u001b[0;32m~/Documents/electronTransportCode/electronTransportCode/MCParticleTracer.py:96\u001b[0m, in \u001b[0;36mAnalogParticleTracer.traceParticle\u001b[0;34m(self, estimator)\u001b[0m\n\u001b[1;32m     94\u001b[0m     new_energy \u001b[39m=\u001b[39m \u001b[39m0\u001b[39m  \u001b[39m# have estimator deposit all energy\u001b[39;00m\n\u001b[1;32m     95\u001b[0m     loopbool \u001b[39m=\u001b[39m \u001b[39mFalse\u001b[39;00m  \u001b[39m# make this the last iterations\u001b[39;00m\n\u001b[0;32m---> 96\u001b[0m estimator\u001b[39m.\u001b[39;49mupdateEstimator((pos, new_pos), (vec, new_vec), (energy, new_energy), index)\n\u001b[1;32m     97\u001b[0m pos \u001b[39m=\u001b[39m new_pos\n\u001b[1;32m     98\u001b[0m vec \u001b[39m=\u001b[39m new_vec\n",
      "File \u001b[0;32m~/Documents/electronTransportCode/electronTransportCode/MCEstimator.py:112\u001b[0m, in \u001b[0;36mFluenceEstimator.updateEstimator\u001b[0;34m(self, posTuple, vecTuple, energyTuple, index)\u001b[0m\n\u001b[1;32m    110\u001b[0m \u001b[39melif\u001b[39;00m bin1\u001b[39m-\u001b[39mbin2 \u001b[39m==\u001b[39m \u001b[39m1\u001b[39m:  \u001b[39m# one bin apart: energy < Emind < newEnergy\u001b[39;00m\n\u001b[1;32m    111\u001b[0m     Emid \u001b[39m=\u001b[39m \u001b[39mself\u001b[39m\u001b[39m.\u001b[39mErange[bin2]\n\u001b[0;32m--> 112\u001b[0m     \u001b[39mself\u001b[39m\u001b[39m.\u001b[39mscoreMatrix[bin1\u001b[39m-\u001b[39m\u001b[39m1\u001b[39m, index] \u001b[39m+\u001b[39m\u001b[39m=\u001b[39m stepsize\u001b[39m*\u001b[39m(energy \u001b[39m-\u001b[39m Emid)\u001b[39m/\u001b[39mdE\n\u001b[1;32m    113\u001b[0m     \u001b[39mself\u001b[39m\u001b[39m.\u001b[39mscoreMatrix[bin2\u001b[39m-\u001b[39m\u001b[39m1\u001b[39m, index] \u001b[39m+\u001b[39m\u001b[39m=\u001b[39m stepsize\u001b[39m*\u001b[39m(Emid \u001b[39m-\u001b[39m newEnergy)\u001b[39m/\u001b[39mdE\n\u001b[1;32m    114\u001b[0m \u001b[39melse\u001b[39;00m:  \u001b[39m# multiple bins apart\u001b[39;00m\n",
      "\u001b[0;31mIndexError\u001b[0m: index 20 is out of bounds for axis 0 with size 20"
     ]
    }
   ],
   "source": [
    "NB_PARTICLES = 100\n",
    "particleTracer(nbParticles=NB_PARTICLES, estimator=fluenceEstimator)\n",
    "print(f'Average amount of events: {particleTracer.averageNbCollisions}')"
   ]
  },
  {
   "cell_type": "code",
   "execution_count": null,
   "metadata": {},
   "outputs": [],
   "source": []
  }
 ],
 "metadata": {
  "kernelspec": {
   "display_name": "Python 3",
   "language": "python",
   "name": "python3"
  },
  "language_info": {
   "codemirror_mode": {
    "name": "ipython",
    "version": 3
   },
   "file_extension": ".py",
   "mimetype": "text/x-python",
   "name": "python",
   "nbconvert_exporter": "python",
   "pygments_lexer": "ipython3",
   "version": "3.10.6"
  },
  "orig_nbformat": 4,
  "vscode": {
   "interpreter": {
    "hash": "916dbcbb3f70747c44a77c7bcd40155683ae19c65e1c03b4aa3499c5328201f1"
   }
  }
 },
 "nbformat": 4,
 "nbformat_minor": 2
}
