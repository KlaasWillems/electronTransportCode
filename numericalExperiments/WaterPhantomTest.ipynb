{
 "cells": [
  {
   "cell_type": "code",
   "execution_count": 1,
   "metadata": {},
   "outputs": [],
   "source": [
    "# Add root directory to path\n",
    "import os\n",
    "import sys\n",
    "PROJECT_ROOT = os.path.abspath(os.path.join(\n",
    "                  os.path.abspath(''),\n",
    "                  os.pardir)\n",
    ")\n",
    "sys.path.append(PROJECT_ROOT)\n",
    "\n",
    "\n",
    "# Imports\n",
    "from electronTransportCode.SimOptions import WaterPhantomSimulation\n",
    "from electronTransportCode.SimulationDomain import SimulationDomain\n",
    "from electronTransportCode.MCParticleTracer import AnalogParticleTracer\n",
    "from electronTransportCode.MCEstimator import DoseEstimator\n",
    "from electronTransportCode.ProjectUtils import ERE\n",
    "from electronTransportCode.ParticleModel import SimplifiedEGSnrcElectron\n",
    "from electronTransportCode.ProjectUtils import E_THRESHOLD"
   ]
  },
  {
   "cell_type": "code",
   "execution_count": 2,
   "metadata": {},
   "outputs": [],
   "source": [
    "# Set up initial conditions\n",
    "eInit: float = 5/ERE  # 5 MeV initial energy\n",
    "energyCutOff: float = E_THRESHOLD\n",
    "SEED: int = 4  # Random number generator seed\n",
    "xVariance: float = 0.1  # Variance on initial position in x and y direction\n",
    "waterPhantomInit = WaterPhantomSimulation(minEnergy=energyCutOff, Esource=eInit, xVariance=xVariance, rngSeed=SEED)"
   ]
  },
  {
   "cell_type": "code",
   "execution_count": 3,
   "metadata": {},
   "outputs": [],
   "source": [
    "# Set up simulation domain\n",
    "simDomain = SimulationDomain(-2.5, 7.5, -2.5, 7.5, 200, 200)\n",
    "\n",
    "# Set up dose estimator\n",
    "doseEstimator = DoseEstimator(simDomain=simDomain)\n",
    "\n",
    "# Set up particle\n",
    "particle = SimplifiedEGSnrcElectron(generator=None)  # rng is later added by simulation object\n",
    "\n",
    "# Set up particle tracer\n",
    "particleTracer = AnalogParticleTracer(particle=particle, simOptions=waterPhantomInit, simDomain=simDomain)"
   ]
  },
  {
   "cell_type": "code",
   "execution_count": 4,
   "metadata": {},
   "outputs": [
    {
     "name": "stdout",
     "output_type": "stream",
     "text": [
      "6.292115452927669 10000\n",
      "2.98489778153088 20000\n"
     ]
    }
   ],
   "source": [
    "# Run simulation\n",
    "\n",
    "particleTracer(nbParticles=1, estimator=doseEstimator)"
   ]
  },
  {
   "cell_type": "code",
   "execution_count": 5,
   "metadata": {},
   "outputs": [],
   "source": [
    "import numpy as np\n",
    "\n",
    "dose = doseEstimator.getEstimator()\n"
   ]
  }
 ],
 "metadata": {
  "kernelspec": {
   "display_name": "Python 3",
   "language": "python",
   "name": "python3"
  },
  "language_info": {
   "codemirror_mode": {
    "name": "ipython",
    "version": 3
   },
   "file_extension": ".py",
   "mimetype": "text/x-python",
   "name": "python",
   "nbconvert_exporter": "python",
   "pygments_lexer": "ipython3",
   "version": "3.10.6"
  },
  "orig_nbformat": 4,
  "vscode": {
   "interpreter": {
    "hash": "916dbcbb3f70747c44a77c7bcd40155683ae19c65e1c03b4aa3499c5328201f1"
   }
  }
 },
 "nbformat": 4,
 "nbformat_minor": 2
}
