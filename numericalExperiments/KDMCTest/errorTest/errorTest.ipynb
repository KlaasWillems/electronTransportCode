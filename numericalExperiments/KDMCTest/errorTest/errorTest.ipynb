{
 "cells": [
  {
   "cell_type": "code",
   "execution_count": null,
   "metadata": {},
   "outputs": [],
   "source": [
    "import sys\n",
    "import os\n",
    "import pickle\n",
    "import matplotlib.pyplot as plt\n",
    "from scipy import stats\n",
    "import numpy as np\n",
    "from typing import List\n",
    "\n",
    "\n",
    "PROJECT_ROOT = os.path.abspath(os.path.join(os.path.abspath('../..'),os.pardir))\n",
    "sys.path.append(PROJECT_ROOT)\n",
    "\n",
    "from electronTransportCode.MCEstimator import TrackEndEstimator\n",
    "%matplotlib widget"
   ]
  },
  {
   "cell_type": "code",
   "execution_count": null,
   "metadata": {},
   "outputs": [],
   "source": [
    "particleTracerK = pickle.load(open('data/particleTracerK.pkl', 'rb'))\n",
    "particleTracerKD = pickle.load(open('data/particleTracerKD.pkl', 'rb'))\n",
    "eSource, NB_PARTICLES, dsArray = pickle.load(open('data/simargv.pkl', 'rb'))\n",
    "nbSim = dsArray.size"
   ]
  },
  {
   "cell_type": "code",
   "execution_count": null,
   "metadata": {},
   "outputs": [],
   "source": [
    "print(eSource, NB_PARTICLES, dsArray)"
   ]
  },
  {
   "cell_type": "code",
   "execution_count": null,
   "metadata": {},
   "outputs": [],
   "source": [
    "# Load all simulation results from data/\n",
    "TrackEndEstimatorK: TrackEndEstimator = pickle.load(open('data/TrackEndEstimatorK.pkl', 'rb'))[0]\n",
    "\n",
    "TEKDList: List[TrackEndEstimator] = []\n",
    "TEKDSList: List[TrackEndEstimator] = []\n",
    "for i in range(nbSim):\n",
    "    TEKDList.append(pickle.load(open(f'data/TrackEndEstimatorKD{i}.pkl', 'rb'))[0])\n",
    "    TEKDSList.append(pickle.load(open(f'data/TrackEndEstimatorKDS{i}.pkl', 'rb'))[0])\n"
   ]
  },
  {
   "cell_type": "code",
   "execution_count": null,
   "metadata": {},
   "outputs": [],
   "source": [
    "# Compute wasserstein distance\n",
    "kCenter, kData = TrackEndEstimatorK.getDensityData()\n",
    "\n",
    "Wass = np.empty((nbSim, 2), dtype=float)\n",
    "for i in range(nbSim):\n",
    "    _, kdData = TEKDList[i].getDensityData()\n",
    "    _, kdsData = TEKDSList[i].getDensityData()\n",
    "    Wass[i, 0] = stats.wasserstein_distance(kData, kdData)\n",
    "    Wass[i, 1] = stats.wasserstein_distance(kData, kdsData)\n"
   ]
  },
  {
   "cell_type": "code",
   "execution_count": null,
   "metadata": {},
   "outputs": [],
   "source": [
    "# Plotting\n",
    "fig, ax1 = plt.subplots(1, 1, figsize=(15, 3.9))\n",
    "\n",
    "ax1.plot(dsArray, Wass[i, 0], 'r', label='KDMC')\n",
    "ax1.plot(dsArray, Wass[i, 1], '--b', label= 'KDSMC')\n",
    "ax1.set_xlabel('$\\Delta s$')\n",
    "ax1.set_ylabel('Wasserstein distance')"
   ]
  },
  {
   "cell_type": "code",
   "execution_count": null,
   "metadata": {},
   "outputs": [],
   "source": []
  }
 ],
 "metadata": {
  "kernelspec": {
   "display_name": "Python 3",
   "language": "python",
   "name": "python3"
  },
  "language_info": {
   "codemirror_mode": {
    "name": "ipython",
    "version": 3
   },
   "file_extension": ".py",
   "mimetype": "text/x-python",
   "name": "python",
   "nbconvert_exporter": "python",
   "pygments_lexer": "ipython3",
   "version": "3.10.6"
  },
  "orig_nbformat": 4
 },
 "nbformat": 4,
 "nbformat_minor": 2
}
